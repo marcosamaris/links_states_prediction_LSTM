{
 "cells": [
  {
   "cell_type": "code",
   "execution_count": 3,
   "metadata": {
    "ExecuteTime": {
     "end_time": "2019-10-25T18:52:22.066667Z",
     "start_time": "2019-10-25T18:52:22.059540Z"
    }
   },
   "outputs": [
    {
     "ename": "SyntaxError",
     "evalue": "invalid syntax (<ipython-input-3-9f8a6a3fd70f>, line 16)",
     "output_type": "error",
     "traceback": [
      "\u001b[0;36m  File \u001b[0;32m\"<ipython-input-3-9f8a6a3fd70f>\"\u001b[0;36m, line \u001b[0;32m16\u001b[0m\n\u001b[0;31m    filename = 'str(line) + '_temp.csv.gz'\u001b[0m\n\u001b[0m                                 ^\u001b[0m\n\u001b[0;31mSyntaxError\u001b[0m\u001b[0;31m:\u001b[0m invalid syntax\n"
     ]
    }
   ],
   "source": [
    "import pandas as pd\n",
    "import seaborn as sns\n",
    "import matplotlib\n",
    "import matplotlib.pyplot as plt\n",
    "import numpy as np\n",
    "from scipy import stats\n",
    "import os\n",
    "from statsmodels.tsa.arima_model import ARIMA\n",
    "\n",
    "import sys\n",
    "sys.path.append(\"../\")\n",
    "\n",
    "selected_line = ['6450-10-0']\n",
    "\n",
    "line = selected_line[0]\n",
    "filename = './str(line) + '_temp.csv.gz'\n",
    "df = pd.read_csv(filename, compression='gzip', sep=',')\n",
    "df['exact_time'] = pd.to_datetime(df['exact_time'], format = '%Y-%m-%d %H:%M')\n",
    "df.index = df['exact_time']"
   ]
  },
  {
   "cell_type": "code",
   "execution_count": null,
   "metadata": {
    "ExecuteTime": {
     "end_time": "2019-01-16T04:37:44.054198Z",
     "start_time": "2019-01-16T04:35:02.834682Z"
    }
   },
   "outputs": [],
   "source": [
    "# ipython notebook --pylab=inline\n",
    "%matplotlib agg\n",
    "\n",
    "PLOT_ARIMA=True\n",
    "\n",
    "# selected_line = ['6450-10-0']\n",
    "test_samples = 1\n",
    "for line in selected_line:    \n",
    "\n",
    "    filename = str(line) + '_temp.csv.gz'\n",
    "    df = pd.read_csv(filename, compression='gzip', sep=',')\n",
    "    df['exact_time'] = pd.to_datetime(df['exact_time'], format = '%Y-%m-%d %H:%M')\n",
    "    df.index = df['exact_time']\n",
    "    \n",
    "    df.loc[(df['time_link'] > 5),'time_link'] = np.ceil(df['time_link'].mean())\n",
    "    \n",
    "    start_date = pd.to_datetime('2017-1-1', format = '%Y-%m-%d')\n",
    "    end_date = pd.to_datetime('2017-9-25', format = '%Y-%m-%d')\n",
    "\n",
    "    df = df.loc[(df['holiday'] != 1) & ((df['weekday'] > 0) & (df['weekday'] < 5))]\n",
    "#     df = df.loc[(df['day'] > start_date) & (df['day'] < end_date) & (df['holiday'] != 1) & \\\n",
    "#                      ((df['weekday'] > 0) & (df['weekday'] < 5))]    \n",
    "\n",
    "    img_dir = '../images/bussim/ARIMA/' + line +'_Links:' + str(max(df['link']))\n",
    "    os.makedirs(img_dir,exist_ok=True)   \n",
    "    \n",
    "    frequency = '60min'            \n",
    "    rolling_win = 3\n",
    "    df = df.drop(df[df['link'] == max(df['link'])].index)\n",
    "    if (line == '7545-10-1') | (line == '477P-10-1') | (line == '3301-10-0') | \\\n",
    "            (line == '3301-10-0') | (line == '574J-10-1') | (line == '574J-10-1'):\n",
    "            df = df.drop(df[df['link'] == max(df['link'])].index)\n",
    "\n",
    "    X_Temp = df.groupby([pd.Grouper(freq=str(frequency)), 'link'], as_index=True ).mean()['time_link'].unstack()\\\n",
    "                .rolling(rolling_win).mean().transform(lambda x: x.fillna(method='ffill')).dropna().unstack().reset_index()\n",
    "\n",
    "    X_Temp.columns = ['link', 'exact_time','time_link_mean']\n",
    "    X_Temp.index = X_Temp['exact_time']            \n",
    "    X_Temp['day_minute'] = pd.DatetimeIndex(X_Temp['exact_time']).hour*60 + pd.DatetimeIndex(X_Temp['exact_time']).minute\n",
    "\n",
    "    for link in range(0, max(X_Temp['link']+1)):        \n",
    "        if X_Temp.loc[X_Temp['link'] == link].empty:\n",
    "            print(\"Not data of Link: \" + str(link))\n",
    "        else:        \n",
    "            predictions = []\n",
    "            measured = []\n",
    "            for day_minute in X_Temp['day_minute'].unique():                    \n",
    "                train = X_Temp[(X_Temp['day_minute'] == day_minute) & (X_Temp['link'] == link)]['time_link_mean'][:-test_samples]\n",
    "                test = X_Temp[(X_Temp['day_minute'] == day_minute) & (X_Temp['link'] == link)]['time_link_mean'][-test_samples:]\n",
    "\n",
    "                if (len(train) < 5):\n",
    "                    predictions.append(np.mean(train.values))\n",
    "                    measured.append(test.values)\n",
    "                else:\n",
    "                    model = ARIMA(train.values, order=(1,0,0))\n",
    "                    model_fit = model.fit(disp=0)\n",
    "                    output = model_fit.forecast()\n",
    "                    predictions.append(output[0])\n",
    "                    measured.append(test.values)\n",
    "\n",
    "            fig, (ax, ax1) = plt.subplots(ncols=2, constrained_layout=True, figsize=(8,4))\n",
    "            ax.plot(np.array(predictions))\n",
    "            ax.plot(np.array(measured))\n",
    "            ax.set_ylabel('Mean Travel Time')\n",
    "            ax.set_xlabel('No. Samples | \" Time line (Hours)')\n",
    "            ax.set_title('Line:'+str(line) + ' | Link:' +str(link))\n",
    "            ax.legend(['Predicted', 'Measured'])\n",
    "\n",
    "            if (line == '6450-10-1') | (line == '8700-10-1') | (line == '2290-10-1') | \\\n",
    "                    (line == '477P-10-0') | (line == '3301-10-0') | (line == '477P-10-1') |\\\n",
    "                    (line == '351F-10-0'):\n",
    "                ax1.boxplot(measured/predictions[0])\n",
    "            else:\n",
    "                ax1.boxplot(np.array(measured)/np.array(predictions))\n",
    "\n",
    "            ax1.set_title('Predicted/Measured')\n",
    "            ax1.set_ylabel('accuracy')\n",
    "            ax1.set_xticklabels(labels=[link])\n",
    "\n",
    "            file_name_fig = img_dir +'/' + 'Link:' + str(link) + '.png'\n",
    "            fig.savefig(file_name_fig)\n"
   ]
  }
 ],
 "metadata": {
  "kernelspec": {
   "display_name": "Python 3",
   "language": "python",
   "name": "python3"
  },
  "language_info": {
   "codemirror_mode": {
    "name": "ipython",
    "version": 3
   },
   "file_extension": ".py",
   "mimetype": "text/x-python",
   "name": "python",
   "nbconvert_exporter": "python",
   "pygments_lexer": "ipython3",
   "version": "3.5.3"
  }
 },
 "nbformat": 4,
 "nbformat_minor": 2
}
