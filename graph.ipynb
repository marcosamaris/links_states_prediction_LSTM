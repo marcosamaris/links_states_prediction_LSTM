{
 "cells": [
  {
   "cell_type": "code",
   "execution_count": 1,
   "metadata": {},
   "outputs": [],
   "source": [
    "import pandas as pd\n",
    "import numpy as np\n",
    "%matplotlib inline\n",
    "import matplotlib.pyplot as plt\n",
    "\n",
    "from historical.readData.estimateData import read\n",
    "from historical.readData.estimateData import search_travels\n",
    "from historical.readData.estimateData import estimate\n",
    "from historical.readData.estimateData import stops_distance\n",
    "\n",
    "from historical.readData.travels import calcula_dist_shape\n",
    "from historical.readData.travels import haversine2\n",
    "import historical.readData.travels as tv\n",
    "\n",
    "import networkx as nx\n"
   ]
  },
  {
   "cell_type": "code",
   "execution_count": 2,
   "metadata": {},
   "outputs": [],
   "source": [
    "# selected_line = ['8700-10-1']\n",
    "selected_line = ['8700-10-1',                \n",
    "                '7545-10-1',\n",
    "                '7545-10-0',\n",
    "                '6450-10-1',\n",
    "                '6450-10-0',\n",
    "                '3301-10-1',\n",
    "                '3301-10-0',\n",
    "                '2290-10-1',\n",
    "                '2290-10-0',\n",
    "                '574J-10-1',\n",
    "                '574J-10-0',\n",
    "                '477P-10-1',\n",
    "                '477P-10-0',\n",
    "                '351F-10-1',\n",
    "                '351F-10-0']"
   ]
  },
  {
   "cell_type": "code",
   "execution_count": 3,
   "metadata": {},
   "outputs": [],
   "source": [
    "\n",
    "pth_files_GTFS = \"./historical/readData/\"\n",
    "\n",
    "trips = pd.read_csv(pth_files_GTFS + 'trips.txt', sep=',')\n",
    "shapes = pd.read_csv(pth_files_GTFS + 'shapes.txt', sep=',')\n",
    "stops = pd.read_csv(pth_files_GTFS + 'stops.txt', sep=',')\n",
    "stop_times = pd.read_csv(pth_files_GTFS + 'stop_times.txt', sep=',')   \n",
    "\n",
    "periods = ['morning', 'm_peak', 'i_peak', 'a_peak', 'night']\n"
   ]
  },
  {
   "cell_type": "code",
   "execution_count": 4,
   "metadata": {},
   "outputs": [],
   "source": [
    "# Calculate the distance betwen bus stops\n",
    "def get_distance_stops(distances, stop_buses_trip):\n",
    "\n",
    "    # Distance between all the bus stops\n",
    "    lat1 = stop_buses_trip.iloc[0, 7]\n",
    "    lon1 = stop_buses_trip.iloc[0, 8]\n",
    "    totalcal = [0.]\n",
    "    dist = [0.]\n",
    "    for lat2, lon2 in zip(stop_buses_trip.iloc[1:, 7], stop_buses_trip.iloc[1:, 8]):\n",
    "        d = haversine2(lat1, lon1, lat2, lon2)\n",
    "        d = d * 1000\n",
    "        dist.append(d)\n",
    "        totalcal.append(totalcal[-1] + d)\n",
    "        lat1 = lat2\n",
    "        lon1 = lon2\n",
    "    distance_all_stops = [stop_buses_trip.iloc[:,3], stop_buses_trip.iloc[:, 7], stop_buses_trip.iloc[:, 8], totalcal]\n",
    "\n",
    "    return distance_all_stops\n",
    "\n",
    "# Create the graph of a trip\n",
    "def get_graph(select_lines, stop_buses_trip, distances):\n",
    "    \"\"\"\n",
    "\n",
    "    :type stop_times: object\n",
    "    \"\"\"\n",
    "    # Create a object Graph with the library networkX\n",
    "    G = nx.Graph()\n",
    "\n",
    "    # Add the nodes in the graph with each one of their attributes\n",
    "    for node in range(len(stop_buses_trip)):\n",
    "        G.add_node(stop_buses_trip.loc[node, \"stop_id\"], id=stop_buses_trip.loc[node, \"stop_id\"], lat=stop_buses_trip.loc[node, \"stop_lat\"],\n",
    "            lon=stop_buses_trip.loc[node, \"stop_lon\"], stop_seq=stop_buses_trip.loc[node, \"stop_sequence\"])\n",
    "\n",
    "    distance_all_stops_p, distance_all_stops_mp = stops_distance(select_lines, trips, shapes, stops, stopid)    \n",
    "    distance_all_stops = get_distance_stops(distances, stop_buses_trip)\n",
    "    \n",
    "    \n",
    "\n",
    "    # Add the edges with other attributes related to them\n",
    "    for node in range(len(stop_buses_trip)-1):\n",
    "#         print(distance_all_stops[0][node])\n",
    "#         print(distance_all_stops_mp[node])\n",
    "        G.add_edge(stop_buses_trip.loc[node, \"stop_id\"], stop_buses_trip.loc[node+1, \"stop_id\"], distance=distance_all_stops_mp[node])\n",
    "    \n",
    "#     G = nx.path_graph(38)\n",
    "#     nx.draw(G)\n",
    "#     plt.show()\n",
    "\n",
    "\n",
    "    return G"
   ]
  },
  {
   "cell_type": "code",
   "execution_count": 5,
   "metadata": {},
   "outputs": [
    {
     "name": "stdout",
     "output_type": "stream",
     "text": [
      "8700-10-1\n"
     ]
    },
    {
     "ename": "NameError",
     "evalue": "name 'stopid' is not defined",
     "output_type": "error",
     "traceback": [
      "\u001b[0;31m---------------------------------------------------------------------------\u001b[0m",
      "\u001b[0;31mNameError\u001b[0m                                 Traceback (most recent call last)",
      "\u001b[0;32m<ipython-input-5-dbdcc3cc2e46>\u001b[0m in \u001b[0;36m<module>\u001b[0;34m()\u001b[0m\n\u001b[1;32m     10\u001b[0m     \u001b[0mstop_buses_line\u001b[0m \u001b[0;34m=\u001b[0m \u001b[0mstop_times\u001b[0m\u001b[0;34m.\u001b[0m\u001b[0mloc\u001b[0m\u001b[0;34m[\u001b[0m\u001b[0mstop_times\u001b[0m\u001b[0;34m[\u001b[0m\u001b[0;34m'trip_id'\u001b[0m\u001b[0;34m]\u001b[0m\u001b[0;34m.\u001b[0m\u001b[0misin\u001b[0m\u001b[0;34m(\u001b[0m\u001b[0mline\u001b[0m\u001b[0;34m)\u001b[0m\u001b[0;34m]\u001b[0m\u001b[0;34m\u001b[0m\u001b[0m\n\u001b[1;32m     11\u001b[0m     \u001b[0mstop_buses_line\u001b[0m \u001b[0;34m=\u001b[0m \u001b[0mpd\u001b[0m\u001b[0;34m.\u001b[0m\u001b[0mmerge\u001b[0m\u001b[0;34m(\u001b[0m\u001b[0mstop_buses_line\u001b[0m\u001b[0;34m,\u001b[0m \u001b[0mstops\u001b[0m\u001b[0;34m,\u001b[0m \u001b[0mon\u001b[0m\u001b[0;34m=\u001b[0m\u001b[0;34m\"stop_id\"\u001b[0m\u001b[0;34m,\u001b[0m \u001b[0mhow\u001b[0m\u001b[0;34m=\u001b[0m\u001b[0;34m\"left\"\u001b[0m\u001b[0;34m)\u001b[0m\u001b[0;34m\u001b[0m\u001b[0m\n\u001b[0;32m---> 12\u001b[0;31m     \u001b[0mgraph_temporal\u001b[0m \u001b[0;34m=\u001b[0m \u001b[0mget_graph\u001b[0m\u001b[0;34m(\u001b[0m\u001b[0mline\u001b[0m\u001b[0;34m[\u001b[0m\u001b[0;36m0\u001b[0m\u001b[0;34m]\u001b[0m\u001b[0;34m,\u001b[0m \u001b[0mstop_buses_line\u001b[0m\u001b[0;34m,\u001b[0m \u001b[0mdistances\u001b[0m\u001b[0;34m[\u001b[0m\u001b[0mline\u001b[0m\u001b[0;34m[\u001b[0m\u001b[0;36m0\u001b[0m\u001b[0;34m]\u001b[0m\u001b[0;34m]\u001b[0m\u001b[0;34m)\u001b[0m\u001b[0;34m\u001b[0m\u001b[0m\n\u001b[0m\u001b[1;32m     13\u001b[0m \u001b[0;34m\u001b[0m\u001b[0m\n\u001b[1;32m     14\u001b[0m     \u001b[0marray_graph_temporal\u001b[0m\u001b[0;34m.\u001b[0m\u001b[0mappend\u001b[0m\u001b[0;34m(\u001b[0m\u001b[0mgraph_temporal\u001b[0m\u001b[0;34m)\u001b[0m\u001b[0;34m\u001b[0m\u001b[0m\n",
      "\u001b[0;32m<ipython-input-4-0946764821cc>\u001b[0m in \u001b[0;36mget_graph\u001b[0;34m(select_lines, stop_buses_trip, distances)\u001b[0m\n\u001b[1;32m     32\u001b[0m             lon=stop_buses_trip.loc[node, \"stop_lon\"], stop_seq=stop_buses_trip.loc[node, \"stop_sequence\"])\n\u001b[1;32m     33\u001b[0m \u001b[0;34m\u001b[0m\u001b[0m\n\u001b[0;32m---> 34\u001b[0;31m     \u001b[0mdistance_all_stops_p\u001b[0m\u001b[0;34m,\u001b[0m \u001b[0mdistance_all_stops_mp\u001b[0m \u001b[0;34m=\u001b[0m \u001b[0mstops_distance\u001b[0m\u001b[0;34m(\u001b[0m\u001b[0mselect_lines\u001b[0m\u001b[0;34m,\u001b[0m \u001b[0mtrips\u001b[0m\u001b[0;34m,\u001b[0m \u001b[0mshapes\u001b[0m\u001b[0;34m,\u001b[0m \u001b[0mstops\u001b[0m\u001b[0;34m,\u001b[0m \u001b[0mstopid\u001b[0m\u001b[0;34m)\u001b[0m\u001b[0;34m\u001b[0m\u001b[0m\n\u001b[0m\u001b[1;32m     35\u001b[0m     \u001b[0mdistance_all_stops\u001b[0m \u001b[0;34m=\u001b[0m \u001b[0mget_distance_stops\u001b[0m\u001b[0;34m(\u001b[0m\u001b[0mdistances\u001b[0m\u001b[0;34m,\u001b[0m \u001b[0mstop_buses_trip\u001b[0m\u001b[0;34m)\u001b[0m\u001b[0;34m\u001b[0m\u001b[0m\n\u001b[1;32m     36\u001b[0m \u001b[0;34m\u001b[0m\u001b[0m\n",
      "\u001b[0;31mNameError\u001b[0m: name 'stopid' is not defined"
     ]
    }
   ],
   "source": [
    "# if __name__ == '__main__':\n",
    "\n",
    "distances = calcula_dist_shape(selected_line, trips, shapes)\n",
    "\n",
    "bus_network_graph = nx.MultiGraph\n",
    "array_graph_temporal = []\n",
    "\n",
    "for line in zip(selected_line):\n",
    "    print(line[0])\n",
    "    stop_buses_line = stop_times.loc[stop_times['trip_id'].isin(line)]\n",
    "    stop_buses_line = pd.merge(stop_buses_line, stops, on=\"stop_id\", how=\"left\")\n",
    "    graph_temporal = get_graph(line[0], stop_buses_line, distances[line[0]])\n",
    "    \n",
    "    array_graph_temporal.append(graph_temporal)\n",
    "\n",
    "bus_network_graph = nx.disjoint_union_all(array_graph_temporal)\n",
    "print(nx.info(bus_network_graph))"
   ]
  },
  {
   "cell_type": "code",
   "execution_count": null,
   "metadata": {},
   "outputs": [],
   "source": [
    "print(bus_network_graph.nodes(data=True))    "
   ]
  },
  {
   "cell_type": "code",
   "execution_count": null,
   "metadata": {},
   "outputs": [],
   "source": []
  },
  {
   "cell_type": "code",
   "execution_count": null,
   "metadata": {},
   "outputs": [],
   "source": []
  },
  {
   "cell_type": "code",
   "execution_count": null,
   "metadata": {},
   "outputs": [],
   "source": []
  }
 ],
 "metadata": {
  "kernelspec": {
   "display_name": "Python 3",
   "language": "python",
   "name": "python3"
  },
  "language_info": {
   "codemirror_mode": {
    "name": "ipython",
    "version": 3
   },
   "file_extension": ".py",
   "mimetype": "text/x-python",
   "name": "python",
   "nbconvert_exporter": "python",
   "pygments_lexer": "ipython3",
   "version": "3.7.1"
  }
 },
 "nbformat": 4,
 "nbformat_minor": 2
}
